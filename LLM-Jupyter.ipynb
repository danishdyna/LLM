{
 "cells": [
  {
   "cell_type": "markdown",
   "metadata": {},
   "source": [
    "# Jupyter Notebook\n",
    "Install the VS Code extension \"Jupyter\" and \"PowerShell\".\n",
    "```\n",
    "code --install-extension ms-toolsai.jupyter\n",
    "code --install-extension ms-vscode.powershell\n",
    "code --list-extensions\n",
    "```\n",
    "Create \"llm\" environment in the terminal and activate.\n",
    "```bash\n",
    "python -m venv \\git\\.llm\n",
    ".llm\\Scripts\\activate\n",
    "```\n",
    "Exploring the option of using Jupyter to embed interactive code examples.\n",
    "```\n",
    "pip install jupyter\n",
    "pip install jupyterlab\n",
    "pip install ipykernel\n",
    "#Install-Module -Name PowerShellJupyter -Scope CurrentUser   # Seems to fail\n",
    "#Install-Module -Name JupyterKernel     -Scope CurrentUser   # Seems to fail\n",
    "#Get-InstalledModule\n",
    "```"
   ]
  },
  {
   "cell_type": "code",
   "execution_count": 14,
   "metadata": {},
   "outputs": [
    {
     "name": "stdout",
     "output_type": "stream",
     "text": [
      "Hello, World!\n"
     ]
    }
   ],
   "source": [
    "print(\"Hello, World!\")"
   ]
  },
  {
   "cell_type": "code",
   "execution_count": 2,
   "metadata": {
    "vscode": {
     "languageId": "powershell"
    }
   },
   "outputs": [
    {
     "name": "stdout",
     "output_type": "stream",
     "text": [
      "ollama version is 0.3.0\n"
     ]
    }
   ],
   "source": [
    "ollama -v\n",
    "#ollama list"
   ]
  },
  {
   "cell_type": "markdown",
   "metadata": {},
   "source": [
    "## PowerSHell Cell\n",
    "### Install .NET SDK\n",
    "Download .NET from https://dotnet.microsoft.com/download  \n",
    "https://dotnet.microsoft.com/en-us/download/dotnet/thank-you/sdk-8.0.303-windows-x64-installer  \n",
    "\n",
    "Install (select option: Add .NET to system PATH) - test access (new session).\n",
    "```\n",
    "dotnet-sdk-8.0.303-win-x64.exe\n",
    "dotnet --version\n",
    "```\n",
    "### Install .NET Interactive\n",
    "Update NuGet Configuration and install .NET Interactive\n",
    "```\n",
    "dotnet nuget add source --name nuget.org https://api.nuget.org/v3/index.json\n",
    "dotnet nuget list source \n",
    "dotnet tool install --global Microsoft.dotnet-interactive\n",
    "dotnet tool list --global\n",
    "dotnet interactive --version    # Limited info\n",
    "```\n",
    "Reinstall the existing Virtual Environment\n",
    "```\n",
    "deactivate\n",
    "Remove-Item -Recurse -Force \\git\\.llm\n",
    "python -m venv \\git\\.llm\n",
    ".llm\\Scripts\\Activate\n",
    "python -m pip install --upgrade pip\n",
    "pip install jupyter\n",
    "jupyter --version\n",
    "```\n",
    "Install .NET Interactive for Jupyter\n",
    "```\n",
    "dotnet interactive jupyter install\n",
    "jupyter kernelspec list\n",
    "dotnet --list-runtimes\n",
    "dotnet --list-sdks\n",
    "```\n"
   ]
  },
  {
   "cell_type": "markdown",
   "metadata": {},
   "source": []
  }
 ],
 "metadata": {
  "kernelspec": {
   "display_name": ".NET (PowerShell)",
   "language": "PowerShell",
   "name": ".net-powershell"
  },
  "language_info": {
   "file_extension": ".ps1",
   "mimetype": "text/x-powershell",
   "name": "PowerShell",
   "pygments_lexer": "powershell",
   "version": "7.0"
  }
 },
 "nbformat": 4,
 "nbformat_minor": 4
}
