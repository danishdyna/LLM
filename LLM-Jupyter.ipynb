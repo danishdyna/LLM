{
 "cells": [
  {
   "cell_type": "markdown",
   "metadata": {},
   "source": [
    "# Jupyter Notebook\n",
    "Install the VS Code extension \"Jupyter\" and \"PowerShell\".\n",
    "```\n",
    "code --install-extension ms-toolsai.jupyter\n",
    "code --install-extension ms-vscode.powershell\n",
    "code --list-extensions\n",
    "```\n",
    "Create \"llm\" environment in the terminal and activate.\n",
    "```bash\n",
    "python -m venv \\git\\.llm\n",
    ".llm\\Scripts\\activate\n",
    "```\n",
    "Exploring the option of using Jupyter to embed interactive code examples.\n",
    "```\n",
    "pip install jupyter\n",
    "pip install jupyterlab\n",
    "pip install ipykernel\n",
    "#Find-Module -Name *Jupyter*\n",
    "#Install-Module -Name PowerShellJupyter -Scope CurrentUser   # Seems to fail\n",
    "#Install-Module -Name JupyterKernel     -Scope CurrentUser   # Seems to fail\n",
    "#Get-InstalledModule\n",
    "```"
   ]
  },
  {
   "cell_type": "code",
   "execution_count": 1,
   "metadata": {
    "vscode": {
     "languageId": "powershell"
    }
   },
   "outputs": [
    {
     "name": "stdout",
     "output_type": "stream",
     "text": [
      "Hello, World!\n"
     ]
    }
   ],
   "source": [
    "print(\"Hello, World!\")"
   ]
  },
  {
   "cell_type": "code",
   "execution_count": 2,
   "metadata": {
    "vscode": {
     "languageId": "powershell"
    }
   },
   "outputs": [
    {
     "name": "stdout",
     "output_type": "stream",
     "text": [
      "ollama version is 0.3.0\n",
      "NAME                         \tID          \tSIZE  \tMODIFIED     \n",
      "snowflake-arctic-embed:latest\t21ab8b9b0545\t669 MB\t3 weeks ago \t\n",
      "mxbai-embed-large:latest     \t468836162de7\t669 MB\t3 weeks ago \t\n",
      "nomic-embed-text:latest      \t0a109f422b47\t274 MB\t3 weeks ago \t\n",
      "falcon2:latest               \td8c09dbc67c3\t6.4 GB\t2 months ago\t\n",
      "llava-phi3:latest            \tc7edd7b87593\t2.9 GB\t2 months ago\t\n",
      "mistral:latest               \t61e88e884507\t4.1 GB\t2 months ago\t\n",
      "phi3:latest                  \ta2c89ceaed85\t2.3 GB\t2 months ago\t\n",
      "llama3:8b                    \ta6990ed6be41\t4.7 GB\t2 months ago\t\n",
      "mxbai-embed-large:335m       \t468836162de7\t669 MB\t2 months ago\t\n",
      "llama3:70b                   \tbe39eb53a197\t39 GB \t3 months ago\t\n"
     ]
    }
   ],
   "source": [
    "!ollama -v\n",
    "!ollama list"
   ]
  },
  {
   "cell_type": "markdown",
   "metadata": {},
   "source": [
    "## PowerSHell Cell\n",
    "### Code cell amd Kernel select\n",
    "Kernel select influences Code Cell execution - for mix documents choose \"<venv>(Python)\".   \n",
    "\n",
    "**.llm(Python 3.11.4)**  \n",
    "Code Cell - Python excutes with ease - Powershell commands must have \"!\" prefix.  \n",
    "\n",
    ".NET(PowerShell)  \n",
    "Code Cell - Python fails - Powershell commands execute with no changes.\n",
    "\n",
    "### Install .NET SDK\n",
    "Download .NET from https://dotnet.microsoft.com/download  \n",
    "https://dotnet.microsoft.com/en-us/download/dotnet/thank-you/sdk-8.0.303-windows-x64-installer  \n",
    "\n",
    "Install (select option: Add .NET to system PATH) - test access (new session).\n",
    "```\n",
    "dotnet-sdk-8.0.303-win-x64.exe\n",
    "dotnet --version\n",
    "```\n",
    "### Install .NET Interactive\n",
    "Update NuGet Configuration and install .NET Interactive\n",
    "```\n",
    "dotnet nuget add source --name nuget.org https://api.nuget.org/v3/index.json\n",
    "dotnet nuget list source \n",
    "dotnet tool install --global Microsoft.dotnet-interactive\n",
    "dotnet tool list --global\n",
    "dotnet interactive --version    # Limited info\n",
    "```\n",
    "Reinstall the existing Virtual Environment\n",
    "```\n",
    "deactivate\n",
    "Remove-Item -Recurse -Force \\git\\.llm\n",
    "python -m venv \\git\\.llm\n",
    ".llm\\Scripts\\Activate\n",
    "python -m pip install --upgrade pip\n",
    "pip install jupyter\n",
    "jupyter --version\n",
    "```\n",
    "Install .NET Interactive for Jupyter\n",
    "```\n",
    "dotnet interactive jupyter install\n",
    "jupyter kernelspec list\n",
    "dotnet --list-runtimes\n",
    "dotnet --list-sdks\n",
    "```\n"
   ]
  },
  {
   "cell_type": "markdown",
   "metadata": {},
   "source": []
  }
 ],
 "metadata": {
  "kernelspec": {
   "display_name": ".llm",
   "language": "python",
   "name": "python3"
  },
  "language_info": {
   "codemirror_mode": {
    "name": "ipython",
    "version": 3
   },
   "file_extension": ".py",
   "mimetype": "text/x-python",
   "name": "python",
   "nbconvert_exporter": "python",
   "pygments_lexer": "ipython3",
   "version": "3.11.4"
  }
 },
 "nbformat": 4,
 "nbformat_minor": 2
}
